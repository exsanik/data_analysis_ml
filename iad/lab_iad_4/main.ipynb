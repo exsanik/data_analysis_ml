{
 "metadata": {
  "language_info": {
   "codemirror_mode": {
    "name": "ipython",
    "version": 3
   },
   "file_extension": ".py",
   "mimetype": "text/x-python",
   "name": "python",
   "nbconvert_exporter": "python",
   "pygments_lexer": "ipython3",
   "version": "3.8.0-final"
  },
  "orig_nbformat": 2,
  "kernelspec": {
   "name": "python3",
   "display_name": "Python 3",
   "language": "python"
  }
 },
 "nbformat": 4,
 "nbformat_minor": 2,
 "cells": [
  {
   "cell_type": "code",
   "execution_count": 171,
   "metadata": {},
   "outputs": [],
   "source": [
    "import pandas as pd\n",
    "import numpy as np\n",
    "from itertools import combinations"
   ]
  },
  {
   "cell_type": "code",
   "execution_count": 172,
   "metadata": {},
   "outputs": [
    {
     "output_type": "display_data",
     "data": {
      "text/plain": "                    1                             2                  3  \\\n0              yogurt                  toilet paper               soda   \n1                pork                       shampoo               pork   \n2       sandwich bags                     hand soap               soap   \n3          lunch meat                       waffles          ice cream   \n4        all- purpose                    vegetables       toilet paper   \n5               flour                       cheeses       dinner rolls   \n6                soda                         mixes          hand soap   \n7              butter                          milk    spaghetti sauce   \n8          vegetables                 sandwich bags               milk   \n9                beef             laundry detergent            ketchup   \n10      aluminum foil  dishwashing liquid/detergent    sandwich loaves   \n11       dinner rolls              individual meals            poultry   \n12            shampoo                        yogurt         vegetables   \n13              mixes                       cereals  laundry detergent   \n14               soap                 aluminum foil             bagels   \n15  laundry detergent                     tortillas            shampoo   \n16          ice cream                           NaN         lunch meat   \n\n               4                 5                             6  \\\n0        cereals   sandwich loaves             laundry detergent   \n1          juice             pasta                  toilet paper   \n2     lunch meat         tortillas                          eggs   \n3           soda             mixes                    vegetables   \n4   toilet paper         hand soap                        bagels   \n5   all- purpose      toilet paper  dishwashing liquid/detergent   \n6           milk        vegetables                       cereals   \n7            NaN      paper towels                  paper towels   \n8            NaN             flour                        butter   \n9            NaN              pork                       shampoo   \n10           NaN           poultry                          soap   \n11           NaN              eggs                         pasta   \n12    vegetables   spaghetti sauce                    coffee/tea   \n13           NaN              milk                       poultry   \n14           NaN           waffles                 aluminum foil   \n15           NaN  individual meals               spaghetti sauce   \n16           NaN      dinner rolls                       ketchup   \n\n                               7             8                             9  \\\n0               individual meals     ice cream                         juice   \n1                   paper towels         juice                       poultry   \n2                      tortillas  paper towels                    coffee/tea   \n3                     vegetables       waffles  dishwashing liquid/detergent   \n4                           milk          soda                           NaN   \n5                      ice cream       cheeses                           NaN   \n6                          juice       poultry                           NaN   \n7   dishwashing liquid/detergent  toilet paper                           NaN   \n8                           soap    vegetables                           NaN   \n9                  sandwich bags           NaN                           NaN   \n10                         pasta           NaN                           NaN   \n11                       ketchup           NaN                           NaN   \n12                  all- purpose           NaN                           NaN   \n13                        yogurt           NaN                           NaN   \n14                         mixes           NaN                           NaN   \n15                  toilet paper       poultry                           NaN   \n16                          beef          milk                          milk   \n\n                              10                            11  \\\n0                        ketchup               sandwich loaves   \n1                     coffee/tea                     ice cream   \n2                   toilet paper                          soda   \n3                           pork                        bagels   \n4                          flour  dishwashing liquid/detergent   \n5                           milk                          eggs   \n6                           soda                         sugar   \n7   dishwashing liquid/detergent                       waffles   \n8                           eggs              individual meals   \n9                      tortillas                  toilet paper   \n10                    vegetables                         pasta   \n11                        fruits                       cheeses   \n12                         sugar                    vegetables   \n13                          soap                     hand soap   \n14                         juice                       ketchup   \n15               sandwich loaves                       poultry   \n16                       poultry                  dinner rolls   \n\n                   12  \n0                pork  \n1           tortillas  \n2             shampoo  \n3          lunch meat  \n4               pasta  \n5               juice  \n6              bagels  \n7          vegetables  \n8   laundry detergent  \n9              yogurt  \n10              sugar  \n11            waffles  \n12          hand soap  \n13             butter  \n14    spaghetti sauce  \n15              flour  \n16                NaN  ",
      "text/html": "<div>\n<style scoped>\n    .dataframe tbody tr th:only-of-type {\n        vertical-align: middle;\n    }\n\n    .dataframe tbody tr th {\n        vertical-align: top;\n    }\n\n    .dataframe thead th {\n        text-align: right;\n    }\n</style>\n<table border=\"1\" class=\"dataframe\">\n  <thead>\n    <tr style=\"text-align: right;\">\n      <th></th>\n      <th>1</th>\n      <th>2</th>\n      <th>3</th>\n      <th>4</th>\n      <th>5</th>\n      <th>6</th>\n      <th>7</th>\n      <th>8</th>\n      <th>9</th>\n      <th>10</th>\n      <th>11</th>\n      <th>12</th>\n    </tr>\n  </thead>\n  <tbody>\n    <tr>\n      <th>0</th>\n      <td>yogurt</td>\n      <td>toilet paper</td>\n      <td>soda</td>\n      <td>cereals</td>\n      <td>sandwich loaves</td>\n      <td>laundry detergent</td>\n      <td>individual meals</td>\n      <td>ice cream</td>\n      <td>juice</td>\n      <td>ketchup</td>\n      <td>sandwich loaves</td>\n      <td>pork</td>\n    </tr>\n    <tr>\n      <th>1</th>\n      <td>pork</td>\n      <td>shampoo</td>\n      <td>pork</td>\n      <td>juice</td>\n      <td>pasta</td>\n      <td>toilet paper</td>\n      <td>paper towels</td>\n      <td>juice</td>\n      <td>poultry</td>\n      <td>coffee/tea</td>\n      <td>ice cream</td>\n      <td>tortillas</td>\n    </tr>\n    <tr>\n      <th>2</th>\n      <td>sandwich bags</td>\n      <td>hand soap</td>\n      <td>soap</td>\n      <td>lunch meat</td>\n      <td>tortillas</td>\n      <td>eggs</td>\n      <td>tortillas</td>\n      <td>paper towels</td>\n      <td>coffee/tea</td>\n      <td>toilet paper</td>\n      <td>soda</td>\n      <td>shampoo</td>\n    </tr>\n    <tr>\n      <th>3</th>\n      <td>lunch meat</td>\n      <td>waffles</td>\n      <td>ice cream</td>\n      <td>soda</td>\n      <td>mixes</td>\n      <td>vegetables</td>\n      <td>vegetables</td>\n      <td>waffles</td>\n      <td>dishwashing liquid/detergent</td>\n      <td>pork</td>\n      <td>bagels</td>\n      <td>lunch meat</td>\n    </tr>\n    <tr>\n      <th>4</th>\n      <td>all- purpose</td>\n      <td>vegetables</td>\n      <td>toilet paper</td>\n      <td>toilet paper</td>\n      <td>hand soap</td>\n      <td>bagels</td>\n      <td>milk</td>\n      <td>soda</td>\n      <td>NaN</td>\n      <td>flour</td>\n      <td>dishwashing liquid/detergent</td>\n      <td>pasta</td>\n    </tr>\n    <tr>\n      <th>5</th>\n      <td>flour</td>\n      <td>cheeses</td>\n      <td>dinner rolls</td>\n      <td>all- purpose</td>\n      <td>toilet paper</td>\n      <td>dishwashing liquid/detergent</td>\n      <td>ice cream</td>\n      <td>cheeses</td>\n      <td>NaN</td>\n      <td>milk</td>\n      <td>eggs</td>\n      <td>juice</td>\n    </tr>\n    <tr>\n      <th>6</th>\n      <td>soda</td>\n      <td>mixes</td>\n      <td>hand soap</td>\n      <td>milk</td>\n      <td>vegetables</td>\n      <td>cereals</td>\n      <td>juice</td>\n      <td>poultry</td>\n      <td>NaN</td>\n      <td>soda</td>\n      <td>sugar</td>\n      <td>bagels</td>\n    </tr>\n    <tr>\n      <th>7</th>\n      <td>butter</td>\n      <td>milk</td>\n      <td>spaghetti sauce</td>\n      <td>NaN</td>\n      <td>paper towels</td>\n      <td>paper towels</td>\n      <td>dishwashing liquid/detergent</td>\n      <td>toilet paper</td>\n      <td>NaN</td>\n      <td>dishwashing liquid/detergent</td>\n      <td>waffles</td>\n      <td>vegetables</td>\n    </tr>\n    <tr>\n      <th>8</th>\n      <td>vegetables</td>\n      <td>sandwich bags</td>\n      <td>milk</td>\n      <td>NaN</td>\n      <td>flour</td>\n      <td>butter</td>\n      <td>soap</td>\n      <td>vegetables</td>\n      <td>NaN</td>\n      <td>eggs</td>\n      <td>individual meals</td>\n      <td>laundry detergent</td>\n    </tr>\n    <tr>\n      <th>9</th>\n      <td>beef</td>\n      <td>laundry detergent</td>\n      <td>ketchup</td>\n      <td>NaN</td>\n      <td>pork</td>\n      <td>shampoo</td>\n      <td>sandwich bags</td>\n      <td>NaN</td>\n      <td>NaN</td>\n      <td>tortillas</td>\n      <td>toilet paper</td>\n      <td>yogurt</td>\n    </tr>\n    <tr>\n      <th>10</th>\n      <td>aluminum foil</td>\n      <td>dishwashing liquid/detergent</td>\n      <td>sandwich loaves</td>\n      <td>NaN</td>\n      <td>poultry</td>\n      <td>soap</td>\n      <td>pasta</td>\n      <td>NaN</td>\n      <td>NaN</td>\n      <td>vegetables</td>\n      <td>pasta</td>\n      <td>sugar</td>\n    </tr>\n    <tr>\n      <th>11</th>\n      <td>dinner rolls</td>\n      <td>individual meals</td>\n      <td>poultry</td>\n      <td>NaN</td>\n      <td>eggs</td>\n      <td>pasta</td>\n      <td>ketchup</td>\n      <td>NaN</td>\n      <td>NaN</td>\n      <td>fruits</td>\n      <td>cheeses</td>\n      <td>waffles</td>\n    </tr>\n    <tr>\n      <th>12</th>\n      <td>shampoo</td>\n      <td>yogurt</td>\n      <td>vegetables</td>\n      <td>vegetables</td>\n      <td>spaghetti sauce</td>\n      <td>coffee/tea</td>\n      <td>all- purpose</td>\n      <td>NaN</td>\n      <td>NaN</td>\n      <td>sugar</td>\n      <td>vegetables</td>\n      <td>hand soap</td>\n    </tr>\n    <tr>\n      <th>13</th>\n      <td>mixes</td>\n      <td>cereals</td>\n      <td>laundry detergent</td>\n      <td>NaN</td>\n      <td>milk</td>\n      <td>poultry</td>\n      <td>yogurt</td>\n      <td>NaN</td>\n      <td>NaN</td>\n      <td>soap</td>\n      <td>hand soap</td>\n      <td>butter</td>\n    </tr>\n    <tr>\n      <th>14</th>\n      <td>soap</td>\n      <td>aluminum foil</td>\n      <td>bagels</td>\n      <td>NaN</td>\n      <td>waffles</td>\n      <td>aluminum foil</td>\n      <td>mixes</td>\n      <td>NaN</td>\n      <td>NaN</td>\n      <td>juice</td>\n      <td>ketchup</td>\n      <td>spaghetti sauce</td>\n    </tr>\n    <tr>\n      <th>15</th>\n      <td>laundry detergent</td>\n      <td>tortillas</td>\n      <td>shampoo</td>\n      <td>NaN</td>\n      <td>individual meals</td>\n      <td>spaghetti sauce</td>\n      <td>toilet paper</td>\n      <td>poultry</td>\n      <td>NaN</td>\n      <td>sandwich loaves</td>\n      <td>poultry</td>\n      <td>flour</td>\n    </tr>\n    <tr>\n      <th>16</th>\n      <td>ice cream</td>\n      <td>NaN</td>\n      <td>lunch meat</td>\n      <td>NaN</td>\n      <td>dinner rolls</td>\n      <td>ketchup</td>\n      <td>beef</td>\n      <td>milk</td>\n      <td>milk</td>\n      <td>poultry</td>\n      <td>dinner rolls</td>\n      <td>NaN</td>\n    </tr>\n  </tbody>\n</table>\n</div>"
     },
     "metadata": {}
    },
    {
     "output_type": "display_data",
     "data": {
      "text/plain": "     transaction          product\n0              1           yogurt\n1              1             pork\n2              1    sandwich bags\n3              1       lunch meat\n4              1     all- purpose\n..           ...              ...\n190           12          waffles\n191           12        hand soap\n192           12           butter\n193           12  spaghetti sauce\n194           12            flour\n\n[195 rows x 2 columns]",
      "text/html": "<div>\n<style scoped>\n    .dataframe tbody tr th:only-of-type {\n        vertical-align: middle;\n    }\n\n    .dataframe tbody tr th {\n        vertical-align: top;\n    }\n\n    .dataframe thead th {\n        text-align: right;\n    }\n</style>\n<table border=\"1\" class=\"dataframe\">\n  <thead>\n    <tr style=\"text-align: right;\">\n      <th></th>\n      <th>transaction</th>\n      <th>product</th>\n    </tr>\n  </thead>\n  <tbody>\n    <tr>\n      <th>0</th>\n      <td>1</td>\n      <td>yogurt</td>\n    </tr>\n    <tr>\n      <th>1</th>\n      <td>1</td>\n      <td>pork</td>\n    </tr>\n    <tr>\n      <th>2</th>\n      <td>1</td>\n      <td>sandwich bags</td>\n    </tr>\n    <tr>\n      <th>3</th>\n      <td>1</td>\n      <td>lunch meat</td>\n    </tr>\n    <tr>\n      <th>4</th>\n      <td>1</td>\n      <td>all- purpose</td>\n    </tr>\n    <tr>\n      <th>...</th>\n      <td>...</td>\n      <td>...</td>\n    </tr>\n    <tr>\n      <th>190</th>\n      <td>12</td>\n      <td>waffles</td>\n    </tr>\n    <tr>\n      <th>191</th>\n      <td>12</td>\n      <td>hand soap</td>\n    </tr>\n    <tr>\n      <th>192</th>\n      <td>12</td>\n      <td>butter</td>\n    </tr>\n    <tr>\n      <th>193</th>\n      <td>12</td>\n      <td>spaghetti sauce</td>\n    </tr>\n    <tr>\n      <th>194</th>\n      <td>12</td>\n      <td>flour</td>\n    </tr>\n  </tbody>\n</table>\n<p>195 rows × 2 columns</p>\n</div>"
     },
     "metadata": {}
    }
   ],
   "source": [
    "data_by_product = pd.read_csv('data_by_product.csv')\n",
    "data_by_transaction = pd.read_csv('data_by_transaction.csv')\n",
    "\n",
    "display(data_by_transaction)\n",
    "display(data_by_product)\n",
    "\n",
    "rules = pd.Series(index=np.arange(1, 4))"
   ]
  },
  {
   "cell_type": "code",
   "execution_count": 173,
   "metadata": {},
   "outputs": [],
   "source": [
    "def combs_nd(a, r, axis=0):\n",
    "    a = np.asarray(a)\n",
    "    if axis < 0:\n",
    "        axis += a.ndim\n",
    "    indices = np.arange(a.shape[axis])\n",
    "    dt = np.dtype([('', np.intp)]*r)\n",
    "    indices = np.fromiter(combinations(indices, r), dt)\n",
    "    indices = indices.view(np.intp).reshape(-1, r)\n",
    "    return np.take(a, indices, axis=axis)"
   ]
  },
  {
   "cell_type": "code",
   "execution_count": 174,
   "metadata": {},
   "outputs": [],
   "source": [
    "transaction_amount = len(data_by_transaction)\n",
    "threshold = 0.40"
   ]
  },
  {
   "cell_type": "code",
   "execution_count": 175,
   "metadata": {},
   "outputs": [
    {
     "output_type": "display_data",
     "data": {
      "text/plain": "vegetables      11\ntoilet paper     9\nmilk             9\npoultry          8\nsoda             7\nName: product, dtype: int64"
     },
     "metadata": {}
    },
    {
     "output_type": "display_data",
     "data": {
      "text/plain": "array([['vegetables', 'toilet paper'],\n       ['vegetables', 'milk'],\n       ['vegetables', 'poultry'],\n       ['vegetables', 'soda'],\n       ['toilet paper', 'milk'],\n       ['toilet paper', 'poultry'],\n       ['toilet paper', 'soda'],\n       ['milk', 'poultry'],\n       ['milk', 'soda'],\n       ['poultry', 'soda']], dtype=object)"
     },
     "metadata": {}
    }
   ],
   "source": [
    "count_products = data_by_product['product'].value_counts()\n",
    "passed_threshold = count_products[count_products.values / transaction_amount > threshold]\n",
    "display(passed_threshold)\n",
    "rules[1] = passed_threshold.index\n",
    "pair_combs = combs_nd(passed_threshold.index, 2) \n",
    "display(pair_combs)"
   ]
  },
  {
   "cell_type": "code",
   "execution_count": 176,
   "metadata": {},
   "outputs": [],
   "source": [
    "def count_and_pass(pair_combs, threshold):\n",
    "    pairs_freq = pd.Series(index=pair_combs)\n",
    "    for pair in pair_combs:\n",
    "        series_obj = data_by_transaction.apply(lambda x: True if np.isin(x.to_numpy(), pair).sum() == len(pair) else False, axis=1)\n",
    "        num_of_rows = len(series_obj[series_obj == True])\n",
    "        pairs_freq[tuple(pair)] = num_of_rows\n",
    "    pairs_freq = pairs_freq.sort_values(ascending=False)\n",
    "    display(pairs_freq)\n",
    "    passed_pairs = pairs_freq[pairs_freq / len(pairs_freq) > threshold]\n",
    "    return passed_pairs"
   ]
  },
  {
   "cell_type": "code",
   "execution_count": 188,
   "metadata": {},
   "outputs": [
    {
     "output_type": "display_data",
     "data": {
      "text/plain": "(vegetables, poultry)         5.0\n(vegetables, milk)            5.0\n(milk, poultry)               3.0\n(toilet paper, soda)          3.0\n(toilet paper, milk)          3.0\n(vegetables, toilet paper)    3.0\n(milk, soda)                  2.0\n(toilet paper, poultry)       2.0\n(vegetables, soda)            2.0\n(poultry, soda)               1.0\ndtype: float64"
     },
     "metadata": {}
    },
    {
     "output_type": "stream",
     "name": "stdout",
     "text": [
      "Passed threshhold combs:\n"
     ]
    },
    {
     "output_type": "display_data",
     "data": {
      "text/plain": "(vegetables, poultry)    5.0\n(vegetables, milk)       5.0\ndtype: float64"
     },
     "metadata": {}
    }
   ],
   "source": [
    "passed_combs = count_and_pass(pair_combs, threshold)\n",
    "print(\"Passed threshhold combs:\")\n",
    "display(passed_combs)\n",
    "rules[2] = passed_combs.index\n"
   ]
  },
  {
   "cell_type": "code",
   "execution_count": 187,
   "metadata": {},
   "outputs": [
    {
     "output_type": "display_data",
     "data": {
      "text/plain": "array([['milk', 'poultry', 'vegetables']], dtype='<U10')"
     },
     "metadata": {}
    },
    {
     "output_type": "display_data",
     "data": {
      "text/plain": "(milk, poultry, vegetables)    4.0\ndtype: float64"
     },
     "metadata": {}
    },
    {
     "output_type": "stream",
     "name": "stdout",
     "text": [
      "Passed threshhold combs:\n"
     ]
    },
    {
     "output_type": "display_data",
     "data": {
      "text/plain": "(milk, poultry, vegetables)    4.0\ndtype: float64"
     },
     "metadata": {}
    }
   ],
   "source": [
    "flat_passed_combs = np.unique([item for sublist in passed_combs.index for item in sublist])\n",
    "triple_combs = combs_nd(flat_passed_combs, 3) \n",
    "display(triple_combs)\n",
    "passed_combs = count_and_pass(triple_combs, threshold)\n",
    "print(\"Passed threshhold combs:\")\n",
    "display(passed_combs)\n",
    "rules[3] = passed_combs.index"
   ]
  },
  {
   "cell_type": "code",
   "execution_count": 186,
   "metadata": {},
   "outputs": [
    {
     "output_type": "stream",
     "name": "stdout",
     "text": [
      "Final rules: \n1:  Index(['vegetables', 'toilet paper', 'milk', 'poultry', 'soda'], dtype='object')\n2:  Index([('vegetables', 'poultry'), ('vegetables', 'milk')], dtype='object')\n3:  Index([('milk', 'poultry', 'vegetables')], dtype='object')\n"
     ]
    }
   ],
   "source": [
    "print(\"Final rules: \")\n",
    "for idx, rule in enumerate(rules):\n",
    "    print(f\"{idx + 1}: \", rule)"
   ]
  }
 ]
}