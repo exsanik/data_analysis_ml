{
 "metadata": {
  "language_info": {
   "codemirror_mode": {
    "name": "ipython",
    "version": 3
   },
   "file_extension": ".py",
   "mimetype": "text/x-python",
   "name": "python",
   "nbconvert_exporter": "python",
   "pygments_lexer": "ipython3",
   "version": "3.8.0-final"
  },
  "orig_nbformat": 2,
  "kernelspec": {
   "name": "python3",
   "display_name": "Python 3",
   "language": "python"
  }
 },
 "nbformat": 4,
 "nbformat_minor": 2,
 "cells": [
  {
   "cell_type": "code",
   "execution_count": 105,
   "metadata": {},
   "outputs": [],
   "source": [
    "import pandas as pd\n",
    "import numpy as np\n",
    "import math\n",
    "from treelib import Node, Tree\n",
    "from functools import reduce\n",
    "from IPython.display import Markdown, display"
   ]
  },
  {
   "cell_type": "code",
   "execution_count": 106,
   "metadata": {},
   "outputs": [],
   "source": [
    "def calc_entropy(*attrs):\n",
    "    np_attrs = np.array(attrs)\n",
    "    if len(np_attrs[np_attrs > 0]) == 1:\n",
    "        return 0\n",
    "    elif np.all(np_attrs == attrs[0]):\n",
    "        return 1\n",
    "\n",
    "    total = np.sum(attrs)\n",
    "    return reduce(\n",
    "        lambda acc, x: acc + (-x / total) * math.log2(x / total),\n",
    "        np_attrs[np_attrs > 0], 0.0)"
   ]
  },
  {
   "cell_type": "code",
   "execution_count": 28,
   "metadata": {},
   "outputs": [],
   "source": [
    "def calc_average_info(parts_total, parts_entropy, total):\n",
    "    parts = np.dstack((parts_total, parts_entropy))[0]\n",
    "    return np.array(list(map(lambda item: (item[0] / total) * item[1], parts))).sum()"
   ]
  },
  {
   "cell_type": "code",
   "execution_count": 29,
   "metadata": {},
   "outputs": [],
   "source": [
    "def calc_different(dataset, header, unique_amount):\n",
    "    counted_frame = dataset[header].value_counts().values\n",
    "    missing_items = unique_amount - len(counted_frame)\n",
    "    return np.append(counted_frame, np.zeros(missing_items, dtype=np.int32)) if missing_items > 0 else counted_frame"
   ]
  },
  {
   "cell_type": "code",
   "execution_count": 111,
   "metadata": {},
   "outputs": [],
   "source": [
    "def count_avarage_information(dataset, header, entire_dataset_total, unique_amount, show_log=True):\n",
    "    grouped_by_attr = dataset.groupby(header)\n",
    "    parts_total = []\n",
    "    parts_entropy = []\n",
    "    for key, item in grouped_by_attr:\n",
    "        group = grouped_by_attr.get_group(key)\n",
    "        different = calc_different(group, target_col_name, unique_amount)\n",
    "        parts_total.append(np.sum(different))\n",
    "        parts_entropy.append(calc_entropy(*different))\n",
    "\n",
    "        if show_log:\n",
    "            print(\"Different: \", different)\n",
    "            display(group)\n",
    "            print(end=\"\\n\\n\")\n",
    "    return calc_average_info(parts_total, parts_entropy, entire_dataset_total)"
   ]
  },
  {
   "cell_type": "code",
   "execution_count": 112,
   "metadata": {},
   "outputs": [],
   "source": [
    "def build_decision_tree(dataset, unique_amount, parent=None, tree=Tree()):\n",
    "    entire_different = calc_different(dataset, target_col_name, unique_amount)\n",
    "    print(\"Entire different: \", entire_different)\n",
    "    entire_dataset_total = np.sum(entire_different)\n",
    "    entropy = calc_entropy(*entire_different)\n",
    "    print(\"Entropy: \", entropy)\n",
    "\n",
    "    average_info = pd.Series([0] * len(dataset.columns[:-1]), dtype=np.float32)\n",
    "    average_info.index = dataset.columns[:-1]\n",
    "    for header in dataset.columns[:-1]: \n",
    "        average_info[header] = count_avarage_information(dataset, header, entire_dataset_total, unique_amount)\n",
    "\n",
    "    average_info = entropy - average_info\n",
    "    max_impact = average_info.idxmax()\n",
    "    tree_node_id = f\"{max_impact}_{np.random.normal()}\"\n",
    "    tree.create_node(max_impact, tree_node_id, parent=parent)\n",
    "\n",
    "    grouped_by_max_impact = dataset.groupby(max_impact)\n",
    "\n",
    "    for key, item in grouped_by_max_impact:\n",
    "        group = grouped_by_max_impact.get_group(key).copy()\n",
    "        different = calc_different(group, target_col_name, unique_amount)\n",
    "        group_entropy = calc_entropy(*different)\n",
    "\n",
    "        group_value = group[max_impact].iloc[0]\n",
    "        group_value_tree_id = f\"{group_value}_{np.random.normal()}\"\n",
    "        tree.create_node(group_value, group_value_tree_id, parent=tree_node_id)\n",
    "        if group_entropy == 0:\n",
    "            tree.create_node(group[target_col_name].iloc[0], f\"{group_value}_{np.random.normal()}\", parent=group_value_tree_id)\n",
    "        else:\n",
    "            del group[max_impact]\n",
    "            if len(group.columns) > 1:\n",
    "                build_decision_tree(group, unique_values, parent=group_value_tree_id, tree=tree) \n",
    "            else:\n",
    "                tree.create_node(group[target_col_name].iloc[0], f\"{group_value}_{np.random.normal()}\", parent=group_value_tree_id)\n",
    "    return tree\n"
   ]
  },
  {
   "cell_type": "code",
   "execution_count": 113,
   "metadata": {},
   "outputs": [
    {
     "output_type": "execute_result",
     "data": {
      "text/plain": [
       "   Кредитная_история     Долг Поручительство        Доход     Риск\n",
       "0             плохая  высокий            нет   От_0_до_15  высокий\n",
       "1        неизвестная  высокий            нет  От_15_до_35  высокий\n",
       "2        неизвестная   низкий            нет  От_15_до_35  средний\n",
       "3        неизвестная   низкий            нет   От_0_до_15  высокий\n",
       "4        неизвестная   низкий            нет    Больше_35   низкий\n",
       "5        неизвестная  высокий     адекватное    Больше_35   низкий\n",
       "6             плохая   низкий            нет   От_0_до_15  высокий\n",
       "7             плохая   низкий     адекватное    Больше_35  средний\n",
       "8            хорошая   низкий            нет    Больше_35   низкий\n",
       "9            хорошая  высокий     адекватное    Больше_35   низкий\n",
       "10           хорошая  высокий            нет   От_0_до_15  высокий\n",
       "11           хорошая  высокий            нет  От_15_до_35  средний\n",
       "12           хорошая  высокий            нет    Больше_35   низкий\n",
       "13            плохая  высокий            нет  От_15_до_35  высокий"
      ],
      "text/html": "<div>\n<style scoped>\n    .dataframe tbody tr th:only-of-type {\n        vertical-align: middle;\n    }\n\n    .dataframe tbody tr th {\n        vertical-align: top;\n    }\n\n    .dataframe thead th {\n        text-align: right;\n    }\n</style>\n<table border=\"1\" class=\"dataframe\">\n  <thead>\n    <tr style=\"text-align: right;\">\n      <th></th>\n      <th>Кредитная_история</th>\n      <th>Долг</th>\n      <th>Поручительство</th>\n      <th>Доход</th>\n      <th>Риск</th>\n    </tr>\n  </thead>\n  <tbody>\n    <tr>\n      <th>0</th>\n      <td>плохая</td>\n      <td>высокий</td>\n      <td>нет</td>\n      <td>От_0_до_15</td>\n      <td>высокий</td>\n    </tr>\n    <tr>\n      <th>1</th>\n      <td>неизвестная</td>\n      <td>высокий</td>\n      <td>нет</td>\n      <td>От_15_до_35</td>\n      <td>высокий</td>\n    </tr>\n    <tr>\n      <th>2</th>\n      <td>неизвестная</td>\n      <td>низкий</td>\n      <td>нет</td>\n      <td>От_15_до_35</td>\n      <td>средний</td>\n    </tr>\n    <tr>\n      <th>3</th>\n      <td>неизвестная</td>\n      <td>низкий</td>\n      <td>нет</td>\n      <td>От_0_до_15</td>\n      <td>высокий</td>\n    </tr>\n    <tr>\n      <th>4</th>\n      <td>неизвестная</td>\n      <td>низкий</td>\n      <td>нет</td>\n      <td>Больше_35</td>\n      <td>низкий</td>\n    </tr>\n    <tr>\n      <th>5</th>\n      <td>неизвестная</td>\n      <td>высокий</td>\n      <td>адекватное</td>\n      <td>Больше_35</td>\n      <td>низкий</td>\n    </tr>\n    <tr>\n      <th>6</th>\n      <td>плохая</td>\n      <td>низкий</td>\n      <td>нет</td>\n      <td>От_0_до_15</td>\n      <td>высокий</td>\n    </tr>\n    <tr>\n      <th>7</th>\n      <td>плохая</td>\n      <td>низкий</td>\n      <td>адекватное</td>\n      <td>Больше_35</td>\n      <td>средний</td>\n    </tr>\n    <tr>\n      <th>8</th>\n      <td>хорошая</td>\n      <td>низкий</td>\n      <td>нет</td>\n      <td>Больше_35</td>\n      <td>низкий</td>\n    </tr>\n    <tr>\n      <th>9</th>\n      <td>хорошая</td>\n      <td>высокий</td>\n      <td>адекватное</td>\n      <td>Больше_35</td>\n      <td>низкий</td>\n    </tr>\n    <tr>\n      <th>10</th>\n      <td>хорошая</td>\n      <td>высокий</td>\n      <td>нет</td>\n      <td>От_0_до_15</td>\n      <td>высокий</td>\n    </tr>\n    <tr>\n      <th>11</th>\n      <td>хорошая</td>\n      <td>высокий</td>\n      <td>нет</td>\n      <td>От_15_до_35</td>\n      <td>средний</td>\n    </tr>\n    <tr>\n      <th>12</th>\n      <td>хорошая</td>\n      <td>высокий</td>\n      <td>нет</td>\n      <td>Больше_35</td>\n      <td>низкий</td>\n    </tr>\n    <tr>\n      <th>13</th>\n      <td>плохая</td>\n      <td>высокий</td>\n      <td>нет</td>\n      <td>От_15_до_35</td>\n      <td>высокий</td>\n    </tr>\n  </tbody>\n</table>\n</div>"
     },
     "metadata": {},
     "execution_count": 113
    }
   ],
   "source": [
    "credit_data = pd.read_csv(\"data.csv\")\n",
    "target_col_name = 'Риск'\n",
    "credit_data = credit_data[[col for col in credit_data.columns if col != target_col_name] + [target_col_name]]\n",
    "unique_values = len(credit_data[target_col_name].unique())\n",
    "\n",
    "credit_data"
   ]
  },
  {
   "source": [
    "tree = build_decision_tree(credit_data, unique_values)"
   ],
   "cell_type": "code",
   "metadata": {},
   "execution_count": 114,
   "outputs": [
    {
     "output_type": "stream",
     "name": "stdout",
     "text": [
      "Entire different:  [6 5 3]\nEntropy:  1.5306189948485172\nDifferent:  [2 2 1]\n"
     ]
    },
    {
     "output_type": "display_data",
     "data": {
      "text/plain": "  Кредитная_история     Долг Поручительство        Доход     Риск\n1       неизвестная  высокий            нет  От_15_до_35  высокий\n2       неизвестная   низкий            нет  От_15_до_35  средний\n3       неизвестная   низкий            нет   От_0_до_15  высокий\n4       неизвестная   низкий            нет    Больше_35   низкий\n5       неизвестная  высокий     адекватное    Больше_35   низкий",
      "text/html": "<div>\n<style scoped>\n    .dataframe tbody tr th:only-of-type {\n        vertical-align: middle;\n    }\n\n    .dataframe tbody tr th {\n        vertical-align: top;\n    }\n\n    .dataframe thead th {\n        text-align: right;\n    }\n</style>\n<table border=\"1\" class=\"dataframe\">\n  <thead>\n    <tr style=\"text-align: right;\">\n      <th></th>\n      <th>Кредитная_история</th>\n      <th>Долг</th>\n      <th>Поручительство</th>\n      <th>Доход</th>\n      <th>Риск</th>\n    </tr>\n  </thead>\n  <tbody>\n    <tr>\n      <th>1</th>\n      <td>неизвестная</td>\n      <td>высокий</td>\n      <td>нет</td>\n      <td>От_15_до_35</td>\n      <td>высокий</td>\n    </tr>\n    <tr>\n      <th>2</th>\n      <td>неизвестная</td>\n      <td>низкий</td>\n      <td>нет</td>\n      <td>От_15_до_35</td>\n      <td>средний</td>\n    </tr>\n    <tr>\n      <th>3</th>\n      <td>неизвестная</td>\n      <td>низкий</td>\n      <td>нет</td>\n      <td>От_0_до_15</td>\n      <td>высокий</td>\n    </tr>\n    <tr>\n      <th>4</th>\n      <td>неизвестная</td>\n      <td>низкий</td>\n      <td>нет</td>\n      <td>Больше_35</td>\n      <td>низкий</td>\n    </tr>\n    <tr>\n      <th>5</th>\n      <td>неизвестная</td>\n      <td>высокий</td>\n      <td>адекватное</td>\n      <td>Больше_35</td>\n      <td>низкий</td>\n    </tr>\n  </tbody>\n</table>\n</div>"
     },
     "metadata": {}
    },
    {
     "output_type": "stream",
     "name": "stdout",
     "text": [
      "\n\nDifferent:  [3 1 0]\n"
     ]
    },
    {
     "output_type": "display_data",
     "data": {
      "text/plain": "   Кредитная_история     Долг Поручительство        Доход     Риск\n0             плохая  высокий            нет   От_0_до_15  высокий\n6             плохая   низкий            нет   От_0_до_15  высокий\n7             плохая   низкий     адекватное    Больше_35  средний\n13            плохая  высокий            нет  От_15_до_35  высокий",
      "text/html": "<div>\n<style scoped>\n    .dataframe tbody tr th:only-of-type {\n        vertical-align: middle;\n    }\n\n    .dataframe tbody tr th {\n        vertical-align: top;\n    }\n\n    .dataframe thead th {\n        text-align: right;\n    }\n</style>\n<table border=\"1\" class=\"dataframe\">\n  <thead>\n    <tr style=\"text-align: right;\">\n      <th></th>\n      <th>Кредитная_история</th>\n      <th>Долг</th>\n      <th>Поручительство</th>\n      <th>Доход</th>\n      <th>Риск</th>\n    </tr>\n  </thead>\n  <tbody>\n    <tr>\n      <th>0</th>\n      <td>плохая</td>\n      <td>высокий</td>\n      <td>нет</td>\n      <td>От_0_до_15</td>\n      <td>высокий</td>\n    </tr>\n    <tr>\n      <th>6</th>\n      <td>плохая</td>\n      <td>низкий</td>\n      <td>нет</td>\n      <td>От_0_до_15</td>\n      <td>высокий</td>\n    </tr>\n    <tr>\n      <th>7</th>\n      <td>плохая</td>\n      <td>низкий</td>\n      <td>адекватное</td>\n      <td>Больше_35</td>\n      <td>средний</td>\n    </tr>\n    <tr>\n      <th>13</th>\n      <td>плохая</td>\n      <td>высокий</td>\n      <td>нет</td>\n      <td>От_15_до_35</td>\n      <td>высокий</td>\n    </tr>\n  </tbody>\n</table>\n</div>"
     },
     "metadata": {}
    },
    {
     "output_type": "stream",
     "name": "stdout",
     "text": [
      "\n\nDifferent:  [3 1 1]\n"
     ]
    },
    {
     "output_type": "display_data",
     "data": {
      "text/plain": "   Кредитная_история     Долг Поручительство        Доход     Риск\n8            хорошая   низкий            нет    Больше_35   низкий\n9            хорошая  высокий     адекватное    Больше_35   низкий\n10           хорошая  высокий            нет   От_0_до_15  высокий\n11           хорошая  высокий            нет  От_15_до_35  средний\n12           хорошая  высокий            нет    Больше_35   низкий",
      "text/html": "<div>\n<style scoped>\n    .dataframe tbody tr th:only-of-type {\n        vertical-align: middle;\n    }\n\n    .dataframe tbody tr th {\n        vertical-align: top;\n    }\n\n    .dataframe thead th {\n        text-align: right;\n    }\n</style>\n<table border=\"1\" class=\"dataframe\">\n  <thead>\n    <tr style=\"text-align: right;\">\n      <th></th>\n      <th>Кредитная_история</th>\n      <th>Долг</th>\n      <th>Поручительство</th>\n      <th>Доход</th>\n      <th>Риск</th>\n    </tr>\n  </thead>\n  <tbody>\n    <tr>\n      <th>8</th>\n      <td>хорошая</td>\n      <td>низкий</td>\n      <td>нет</td>\n      <td>Больше_35</td>\n      <td>низкий</td>\n    </tr>\n    <tr>\n      <th>9</th>\n      <td>хорошая</td>\n      <td>высокий</td>\n      <td>адекватное</td>\n      <td>Больше_35</td>\n      <td>низкий</td>\n    </tr>\n    <tr>\n      <th>10</th>\n      <td>хорошая</td>\n      <td>высокий</td>\n      <td>нет</td>\n      <td>От_0_до_15</td>\n      <td>высокий</td>\n    </tr>\n    <tr>\n      <th>11</th>\n      <td>хорошая</td>\n      <td>высокий</td>\n      <td>нет</td>\n      <td>От_15_до_35</td>\n      <td>средний</td>\n    </tr>\n    <tr>\n      <th>12</th>\n      <td>хорошая</td>\n      <td>высокий</td>\n      <td>нет</td>\n      <td>Больше_35</td>\n      <td>низкий</td>\n    </tr>\n  </tbody>\n</table>\n</div>"
     },
     "metadata": {}
    },
    {
     "output_type": "stream",
     "name": "stdout",
     "text": [
      "\n\nDifferent:  [4 3 1]\n"
     ]
    },
    {
     "output_type": "display_data",
     "data": {
      "text/plain": "   Кредитная_история     Долг Поручительство        Доход     Риск\n0             плохая  высокий            нет   От_0_до_15  высокий\n1        неизвестная  высокий            нет  От_15_до_35  высокий\n5        неизвестная  высокий     адекватное    Больше_35   низкий\n9            хорошая  высокий     адекватное    Больше_35   низкий\n10           хорошая  высокий            нет   От_0_до_15  высокий\n11           хорошая  высокий            нет  От_15_до_35  средний\n12           хорошая  высокий            нет    Больше_35   низкий\n13            плохая  высокий            нет  От_15_до_35  высокий",
      "text/html": "<div>\n<style scoped>\n    .dataframe tbody tr th:only-of-type {\n        vertical-align: middle;\n    }\n\n    .dataframe tbody tr th {\n        vertical-align: top;\n    }\n\n    .dataframe thead th {\n        text-align: right;\n    }\n</style>\n<table border=\"1\" class=\"dataframe\">\n  <thead>\n    <tr style=\"text-align: right;\">\n      <th></th>\n      <th>Кредитная_история</th>\n      <th>Долг</th>\n      <th>Поручительство</th>\n      <th>Доход</th>\n      <th>Риск</th>\n    </tr>\n  </thead>\n  <tbody>\n    <tr>\n      <th>0</th>\n      <td>плохая</td>\n      <td>высокий</td>\n      <td>нет</td>\n      <td>От_0_до_15</td>\n      <td>высокий</td>\n    </tr>\n    <tr>\n      <th>1</th>\n      <td>неизвестная</td>\n      <td>высокий</td>\n      <td>нет</td>\n      <td>От_15_до_35</td>\n      <td>высокий</td>\n    </tr>\n    <tr>\n      <th>5</th>\n      <td>неизвестная</td>\n      <td>высокий</td>\n      <td>адекватное</td>\n      <td>Больше_35</td>\n      <td>низкий</td>\n    </tr>\n    <tr>\n      <th>9</th>\n      <td>хорошая</td>\n      <td>высокий</td>\n      <td>адекватное</td>\n      <td>Больше_35</td>\n      <td>низкий</td>\n    </tr>\n    <tr>\n      <th>10</th>\n      <td>хорошая</td>\n      <td>высокий</td>\n      <td>нет</td>\n      <td>От_0_до_15</td>\n      <td>высокий</td>\n    </tr>\n    <tr>\n      <th>11</th>\n      <td>хорошая</td>\n      <td>высокий</td>\n      <td>нет</td>\n      <td>От_15_до_35</td>\n      <td>средний</td>\n    </tr>\n    <tr>\n      <th>12</th>\n      <td>хорошая</td>\n      <td>высокий</td>\n      <td>нет</td>\n      <td>Больше_35</td>\n      <td>низкий</td>\n    </tr>\n    <tr>\n      <th>13</th>\n      <td>плохая</td>\n      <td>высокий</td>\n      <td>нет</td>\n      <td>От_15_до_35</td>\n      <td>высокий</td>\n    </tr>\n  </tbody>\n</table>\n</div>"
     },
     "metadata": {}
    },
    {
     "output_type": "stream",
     "name": "stdout",
     "text": [
      "\n\nDifferent:  [2 2 2]\n"
     ]
    },
    {
     "output_type": "display_data",
     "data": {
      "text/plain": "  Кредитная_история    Долг Поручительство        Доход     Риск\n2       неизвестная  низкий            нет  От_15_до_35  средний\n3       неизвестная  низкий            нет   От_0_до_15  высокий\n4       неизвестная  низкий            нет    Больше_35   низкий\n6            плохая  низкий            нет   От_0_до_15  высокий\n7            плохая  низкий     адекватное    Больше_35  средний\n8           хорошая  низкий            нет    Больше_35   низкий",
      "text/html": "<div>\n<style scoped>\n    .dataframe tbody tr th:only-of-type {\n        vertical-align: middle;\n    }\n\n    .dataframe tbody tr th {\n        vertical-align: top;\n    }\n\n    .dataframe thead th {\n        text-align: right;\n    }\n</style>\n<table border=\"1\" class=\"dataframe\">\n  <thead>\n    <tr style=\"text-align: right;\">\n      <th></th>\n      <th>Кредитная_история</th>\n      <th>Долг</th>\n      <th>Поручительство</th>\n      <th>Доход</th>\n      <th>Риск</th>\n    </tr>\n  </thead>\n  <tbody>\n    <tr>\n      <th>2</th>\n      <td>неизвестная</td>\n      <td>низкий</td>\n      <td>нет</td>\n      <td>От_15_до_35</td>\n      <td>средний</td>\n    </tr>\n    <tr>\n      <th>3</th>\n      <td>неизвестная</td>\n      <td>низкий</td>\n      <td>нет</td>\n      <td>От_0_до_15</td>\n      <td>высокий</td>\n    </tr>\n    <tr>\n      <th>4</th>\n      <td>неизвестная</td>\n      <td>низкий</td>\n      <td>нет</td>\n      <td>Больше_35</td>\n      <td>низкий</td>\n    </tr>\n    <tr>\n      <th>6</th>\n      <td>плохая</td>\n      <td>низкий</td>\n      <td>нет</td>\n      <td>От_0_до_15</td>\n      <td>высокий</td>\n    </tr>\n    <tr>\n      <th>7</th>\n      <td>плохая</td>\n      <td>низкий</td>\n      <td>адекватное</td>\n      <td>Больше_35</td>\n      <td>средний</td>\n    </tr>\n    <tr>\n      <th>8</th>\n      <td>хорошая</td>\n      <td>низкий</td>\n      <td>нет</td>\n      <td>Больше_35</td>\n      <td>низкий</td>\n    </tr>\n  </tbody>\n</table>\n</div>"
     },
     "metadata": {}
    },
    {
     "output_type": "stream",
     "name": "stdout",
     "text": [
      "\n\nDifferent:  [2 1 0]\n"
     ]
    },
    {
     "output_type": "display_data",
     "data": {
      "text/plain": "  Кредитная_история     Долг Поручительство      Доход     Риск\n5       неизвестная  высокий     адекватное  Больше_35   низкий\n7            плохая   низкий     адекватное  Больше_35  средний\n9           хорошая  высокий     адекватное  Больше_35   низкий",
      "text/html": "<div>\n<style scoped>\n    .dataframe tbody tr th:only-of-type {\n        vertical-align: middle;\n    }\n\n    .dataframe tbody tr th {\n        vertical-align: top;\n    }\n\n    .dataframe thead th {\n        text-align: right;\n    }\n</style>\n<table border=\"1\" class=\"dataframe\">\n  <thead>\n    <tr style=\"text-align: right;\">\n      <th></th>\n      <th>Кредитная_история</th>\n      <th>Долг</th>\n      <th>Поручительство</th>\n      <th>Доход</th>\n      <th>Риск</th>\n    </tr>\n  </thead>\n  <tbody>\n    <tr>\n      <th>5</th>\n      <td>неизвестная</td>\n      <td>высокий</td>\n      <td>адекватное</td>\n      <td>Больше_35</td>\n      <td>низкий</td>\n    </tr>\n    <tr>\n      <th>7</th>\n      <td>плохая</td>\n      <td>низкий</td>\n      <td>адекватное</td>\n      <td>Больше_35</td>\n      <td>средний</td>\n    </tr>\n    <tr>\n      <th>9</th>\n      <td>хорошая</td>\n      <td>высокий</td>\n      <td>адекватное</td>\n      <td>Больше_35</td>\n      <td>низкий</td>\n    </tr>\n  </tbody>\n</table>\n</div>"
     },
     "metadata": {}
    },
    {
     "output_type": "stream",
     "name": "stdout",
     "text": [
      "\n\nDifferent:  [6 3 2]\n"
     ]
    },
    {
     "output_type": "display_data",
     "data": {
      "text/plain": "   Кредитная_история     Долг Поручительство        Доход     Риск\n0             плохая  высокий            нет   От_0_до_15  высокий\n1        неизвестная  высокий            нет  От_15_до_35  высокий\n2        неизвестная   низкий            нет  От_15_до_35  средний\n3        неизвестная   низкий            нет   От_0_до_15  высокий\n4        неизвестная   низкий            нет    Больше_35   низкий\n6             плохая   низкий            нет   От_0_до_15  высокий\n8            хорошая   низкий            нет    Больше_35   низкий\n10           хорошая  высокий            нет   От_0_до_15  высокий\n11           хорошая  высокий            нет  От_15_до_35  средний\n12           хорошая  высокий            нет    Больше_35   низкий\n13            плохая  высокий            нет  От_15_до_35  высокий",
      "text/html": "<div>\n<style scoped>\n    .dataframe tbody tr th:only-of-type {\n        vertical-align: middle;\n    }\n\n    .dataframe tbody tr th {\n        vertical-align: top;\n    }\n\n    .dataframe thead th {\n        text-align: right;\n    }\n</style>\n<table border=\"1\" class=\"dataframe\">\n  <thead>\n    <tr style=\"text-align: right;\">\n      <th></th>\n      <th>Кредитная_история</th>\n      <th>Долг</th>\n      <th>Поручительство</th>\n      <th>Доход</th>\n      <th>Риск</th>\n    </tr>\n  </thead>\n  <tbody>\n    <tr>\n      <th>0</th>\n      <td>плохая</td>\n      <td>высокий</td>\n      <td>нет</td>\n      <td>От_0_до_15</td>\n      <td>высокий</td>\n    </tr>\n    <tr>\n      <th>1</th>\n      <td>неизвестная</td>\n      <td>высокий</td>\n      <td>нет</td>\n      <td>От_15_до_35</td>\n      <td>высокий</td>\n    </tr>\n    <tr>\n      <th>2</th>\n      <td>неизвестная</td>\n      <td>низкий</td>\n      <td>нет</td>\n      <td>От_15_до_35</td>\n      <td>средний</td>\n    </tr>\n    <tr>\n      <th>3</th>\n      <td>неизвестная</td>\n      <td>низкий</td>\n      <td>нет</td>\n      <td>От_0_до_15</td>\n      <td>высокий</td>\n    </tr>\n    <tr>\n      <th>4</th>\n      <td>неизвестная</td>\n      <td>низкий</td>\n      <td>нет</td>\n      <td>Больше_35</td>\n      <td>низкий</td>\n    </tr>\n    <tr>\n      <th>6</th>\n      <td>плохая</td>\n      <td>низкий</td>\n      <td>нет</td>\n      <td>От_0_до_15</td>\n      <td>высокий</td>\n    </tr>\n    <tr>\n      <th>8</th>\n      <td>хорошая</td>\n      <td>низкий</td>\n      <td>нет</td>\n      <td>Больше_35</td>\n      <td>низкий</td>\n    </tr>\n    <tr>\n      <th>10</th>\n      <td>хорошая</td>\n      <td>высокий</td>\n      <td>нет</td>\n      <td>От_0_до_15</td>\n      <td>высокий</td>\n    </tr>\n    <tr>\n      <th>11</th>\n      <td>хорошая</td>\n      <td>высокий</td>\n      <td>нет</td>\n      <td>От_15_до_35</td>\n      <td>средний</td>\n    </tr>\n    <tr>\n      <th>12</th>\n      <td>хорошая</td>\n      <td>высокий</td>\n      <td>нет</td>\n      <td>Больше_35</td>\n      <td>низкий</td>\n    </tr>\n    <tr>\n      <th>13</th>\n      <td>плохая</td>\n      <td>высокий</td>\n      <td>нет</td>\n      <td>От_15_до_35</td>\n      <td>высокий</td>\n    </tr>\n  </tbody>\n</table>\n</div>"
     },
     "metadata": {}
    },
    {
     "output_type": "stream",
     "name": "stdout",
     "text": [
      "\n\nDifferent:  [5 1 0]\n"
     ]
    },
    {
     "output_type": "display_data",
     "data": {
      "text/plain": "   Кредитная_история     Долг Поручительство      Доход     Риск\n4        неизвестная   низкий            нет  Больше_35   низкий\n5        неизвестная  высокий     адекватное  Больше_35   низкий\n7             плохая   низкий     адекватное  Больше_35  средний\n8            хорошая   низкий            нет  Больше_35   низкий\n9            хорошая  высокий     адекватное  Больше_35   низкий\n12           хорошая  высокий            нет  Больше_35   низкий",
      "text/html": "<div>\n<style scoped>\n    .dataframe tbody tr th:only-of-type {\n        vertical-align: middle;\n    }\n\n    .dataframe tbody tr th {\n        vertical-align: top;\n    }\n\n    .dataframe thead th {\n        text-align: right;\n    }\n</style>\n<table border=\"1\" class=\"dataframe\">\n  <thead>\n    <tr style=\"text-align: right;\">\n      <th></th>\n      <th>Кредитная_история</th>\n      <th>Долг</th>\n      <th>Поручительство</th>\n      <th>Доход</th>\n      <th>Риск</th>\n    </tr>\n  </thead>\n  <tbody>\n    <tr>\n      <th>4</th>\n      <td>неизвестная</td>\n      <td>низкий</td>\n      <td>нет</td>\n      <td>Больше_35</td>\n      <td>низкий</td>\n    </tr>\n    <tr>\n      <th>5</th>\n      <td>неизвестная</td>\n      <td>высокий</td>\n      <td>адекватное</td>\n      <td>Больше_35</td>\n      <td>низкий</td>\n    </tr>\n    <tr>\n      <th>7</th>\n      <td>плохая</td>\n      <td>низкий</td>\n      <td>адекватное</td>\n      <td>Больше_35</td>\n      <td>средний</td>\n    </tr>\n    <tr>\n      <th>8</th>\n      <td>хорошая</td>\n      <td>низкий</td>\n      <td>нет</td>\n      <td>Больше_35</td>\n      <td>низкий</td>\n    </tr>\n    <tr>\n      <th>9</th>\n      <td>хорошая</td>\n      <td>высокий</td>\n      <td>адекватное</td>\n      <td>Больше_35</td>\n      <td>низкий</td>\n    </tr>\n    <tr>\n      <th>12</th>\n      <td>хорошая</td>\n      <td>высокий</td>\n      <td>нет</td>\n      <td>Больше_35</td>\n      <td>низкий</td>\n    </tr>\n  </tbody>\n</table>\n</div>"
     },
     "metadata": {}
    },
    {
     "output_type": "stream",
     "name": "stdout",
     "text": [
      "\n\nDifferent:  [4 0 0]\n"
     ]
    },
    {
     "output_type": "display_data",
     "data": {
      "text/plain": "   Кредитная_история     Долг Поручительство       Доход     Риск\n0             плохая  высокий            нет  От_0_до_15  высокий\n3        неизвестная   низкий            нет  От_0_до_15  высокий\n6             плохая   низкий            нет  От_0_до_15  высокий\n10           хорошая  высокий            нет  От_0_до_15  высокий",
      "text/html": "<div>\n<style scoped>\n    .dataframe tbody tr th:only-of-type {\n        vertical-align: middle;\n    }\n\n    .dataframe tbody tr th {\n        vertical-align: top;\n    }\n\n    .dataframe thead th {\n        text-align: right;\n    }\n</style>\n<table border=\"1\" class=\"dataframe\">\n  <thead>\n    <tr style=\"text-align: right;\">\n      <th></th>\n      <th>Кредитная_история</th>\n      <th>Долг</th>\n      <th>Поручительство</th>\n      <th>Доход</th>\n      <th>Риск</th>\n    </tr>\n  </thead>\n  <tbody>\n    <tr>\n      <th>0</th>\n      <td>плохая</td>\n      <td>высокий</td>\n      <td>нет</td>\n      <td>От_0_до_15</td>\n      <td>высокий</td>\n    </tr>\n    <tr>\n      <th>3</th>\n      <td>неизвестная</td>\n      <td>низкий</td>\n      <td>нет</td>\n      <td>От_0_до_15</td>\n      <td>высокий</td>\n    </tr>\n    <tr>\n      <th>6</th>\n      <td>плохая</td>\n      <td>низкий</td>\n      <td>нет</td>\n      <td>От_0_до_15</td>\n      <td>высокий</td>\n    </tr>\n    <tr>\n      <th>10</th>\n      <td>хорошая</td>\n      <td>высокий</td>\n      <td>нет</td>\n      <td>От_0_до_15</td>\n      <td>высокий</td>\n    </tr>\n  </tbody>\n</table>\n</div>"
     },
     "metadata": {}
    },
    {
     "output_type": "stream",
     "name": "stdout",
     "text": [
      "\n\nDifferent:  [2 2 0]\n"
     ]
    },
    {
     "output_type": "display_data",
     "data": {
      "text/plain": "   Кредитная_история     Долг Поручительство        Доход     Риск\n1        неизвестная  высокий            нет  От_15_до_35  высокий\n2        неизвестная   низкий            нет  От_15_до_35  средний\n11           хорошая  высокий            нет  От_15_до_35  средний\n13            плохая  высокий            нет  От_15_до_35  высокий",
      "text/html": "<div>\n<style scoped>\n    .dataframe tbody tr th:only-of-type {\n        vertical-align: middle;\n    }\n\n    .dataframe tbody tr th {\n        vertical-align: top;\n    }\n\n    .dataframe thead th {\n        text-align: right;\n    }\n</style>\n<table border=\"1\" class=\"dataframe\">\n  <thead>\n    <tr style=\"text-align: right;\">\n      <th></th>\n      <th>Кредитная_история</th>\n      <th>Долг</th>\n      <th>Поручительство</th>\n      <th>Доход</th>\n      <th>Риск</th>\n    </tr>\n  </thead>\n  <tbody>\n    <tr>\n      <th>1</th>\n      <td>неизвестная</td>\n      <td>высокий</td>\n      <td>нет</td>\n      <td>От_15_до_35</td>\n      <td>высокий</td>\n    </tr>\n    <tr>\n      <th>2</th>\n      <td>неизвестная</td>\n      <td>низкий</td>\n      <td>нет</td>\n      <td>От_15_до_35</td>\n      <td>средний</td>\n    </tr>\n    <tr>\n      <th>11</th>\n      <td>хорошая</td>\n      <td>высокий</td>\n      <td>нет</td>\n      <td>От_15_до_35</td>\n      <td>средний</td>\n    </tr>\n    <tr>\n      <th>13</th>\n      <td>плохая</td>\n      <td>высокий</td>\n      <td>нет</td>\n      <td>От_15_до_35</td>\n      <td>высокий</td>\n    </tr>\n  </tbody>\n</table>\n</div>"
     },
     "metadata": {}
    },
    {
     "output_type": "stream",
     "name": "stdout",
     "text": [
      "\n\nEntire different:  [5 1 0]\nEntropy:  0.6500224216483541\nDifferent:  [2 0 0]\n"
     ]
    },
    {
     "output_type": "display_data",
     "data": {
      "text/plain": "  Кредитная_история     Долг Поручительство    Риск\n4       неизвестная   низкий            нет  низкий\n5       неизвестная  высокий     адекватное  низкий",
      "text/html": "<div>\n<style scoped>\n    .dataframe tbody tr th:only-of-type {\n        vertical-align: middle;\n    }\n\n    .dataframe tbody tr th {\n        vertical-align: top;\n    }\n\n    .dataframe thead th {\n        text-align: right;\n    }\n</style>\n<table border=\"1\" class=\"dataframe\">\n  <thead>\n    <tr style=\"text-align: right;\">\n      <th></th>\n      <th>Кредитная_история</th>\n      <th>Долг</th>\n      <th>Поручительство</th>\n      <th>Риск</th>\n    </tr>\n  </thead>\n  <tbody>\n    <tr>\n      <th>4</th>\n      <td>неизвестная</td>\n      <td>низкий</td>\n      <td>нет</td>\n      <td>низкий</td>\n    </tr>\n    <tr>\n      <th>5</th>\n      <td>неизвестная</td>\n      <td>высокий</td>\n      <td>адекватное</td>\n      <td>низкий</td>\n    </tr>\n  </tbody>\n</table>\n</div>"
     },
     "metadata": {}
    },
    {
     "output_type": "stream",
     "name": "stdout",
     "text": [
      "\n\nDifferent:  [1 0 0]\n"
     ]
    },
    {
     "output_type": "display_data",
     "data": {
      "text/plain": "  Кредитная_история    Долг Поручительство     Риск\n7            плохая  низкий     адекватное  средний",
      "text/html": "<div>\n<style scoped>\n    .dataframe tbody tr th:only-of-type {\n        vertical-align: middle;\n    }\n\n    .dataframe tbody tr th {\n        vertical-align: top;\n    }\n\n    .dataframe thead th {\n        text-align: right;\n    }\n</style>\n<table border=\"1\" class=\"dataframe\">\n  <thead>\n    <tr style=\"text-align: right;\">\n      <th></th>\n      <th>Кредитная_история</th>\n      <th>Долг</th>\n      <th>Поручительство</th>\n      <th>Риск</th>\n    </tr>\n  </thead>\n  <tbody>\n    <tr>\n      <th>7</th>\n      <td>плохая</td>\n      <td>низкий</td>\n      <td>адекватное</td>\n      <td>средний</td>\n    </tr>\n  </tbody>\n</table>\n</div>"
     },
     "metadata": {}
    },
    {
     "output_type": "stream",
     "name": "stdout",
     "text": [
      "\n\nDifferent:  [3 0 0]\n"
     ]
    },
    {
     "output_type": "display_data",
     "data": {
      "text/plain": "   Кредитная_история     Долг Поручительство    Риск\n8            хорошая   низкий            нет  низкий\n9            хорошая  высокий     адекватное  низкий\n12           хорошая  высокий            нет  низкий",
      "text/html": "<div>\n<style scoped>\n    .dataframe tbody tr th:only-of-type {\n        vertical-align: middle;\n    }\n\n    .dataframe tbody tr th {\n        vertical-align: top;\n    }\n\n    .dataframe thead th {\n        text-align: right;\n    }\n</style>\n<table border=\"1\" class=\"dataframe\">\n  <thead>\n    <tr style=\"text-align: right;\">\n      <th></th>\n      <th>Кредитная_история</th>\n      <th>Долг</th>\n      <th>Поручительство</th>\n      <th>Риск</th>\n    </tr>\n  </thead>\n  <tbody>\n    <tr>\n      <th>8</th>\n      <td>хорошая</td>\n      <td>низкий</td>\n      <td>нет</td>\n      <td>низкий</td>\n    </tr>\n    <tr>\n      <th>9</th>\n      <td>хорошая</td>\n      <td>высокий</td>\n      <td>адекватное</td>\n      <td>низкий</td>\n    </tr>\n    <tr>\n      <th>12</th>\n      <td>хорошая</td>\n      <td>высокий</td>\n      <td>нет</td>\n      <td>низкий</td>\n    </tr>\n  </tbody>\n</table>\n</div>"
     },
     "metadata": {}
    },
    {
     "output_type": "stream",
     "name": "stdout",
     "text": [
      "\n\nDifferent:  [3 0 0]\n"
     ]
    },
    {
     "output_type": "display_data",
     "data": {
      "text/plain": "   Кредитная_история     Долг Поручительство    Риск\n5        неизвестная  высокий     адекватное  низкий\n9            хорошая  высокий     адекватное  низкий\n12           хорошая  высокий            нет  низкий",
      "text/html": "<div>\n<style scoped>\n    .dataframe tbody tr th:only-of-type {\n        vertical-align: middle;\n    }\n\n    .dataframe tbody tr th {\n        vertical-align: top;\n    }\n\n    .dataframe thead th {\n        text-align: right;\n    }\n</style>\n<table border=\"1\" class=\"dataframe\">\n  <thead>\n    <tr style=\"text-align: right;\">\n      <th></th>\n      <th>Кредитная_история</th>\n      <th>Долг</th>\n      <th>Поручительство</th>\n      <th>Риск</th>\n    </tr>\n  </thead>\n  <tbody>\n    <tr>\n      <th>5</th>\n      <td>неизвестная</td>\n      <td>высокий</td>\n      <td>адекватное</td>\n      <td>низкий</td>\n    </tr>\n    <tr>\n      <th>9</th>\n      <td>хорошая</td>\n      <td>высокий</td>\n      <td>адекватное</td>\n      <td>низкий</td>\n    </tr>\n    <tr>\n      <th>12</th>\n      <td>хорошая</td>\n      <td>высокий</td>\n      <td>нет</td>\n      <td>низкий</td>\n    </tr>\n  </tbody>\n</table>\n</div>"
     },
     "metadata": {}
    },
    {
     "output_type": "stream",
     "name": "stdout",
     "text": [
      "\n\nDifferent:  [2 1 0]\n"
     ]
    },
    {
     "output_type": "display_data",
     "data": {
      "text/plain": "  Кредитная_история    Долг Поручительство     Риск\n4       неизвестная  низкий            нет   низкий\n7            плохая  низкий     адекватное  средний\n8           хорошая  низкий            нет   низкий",
      "text/html": "<div>\n<style scoped>\n    .dataframe tbody tr th:only-of-type {\n        vertical-align: middle;\n    }\n\n    .dataframe tbody tr th {\n        vertical-align: top;\n    }\n\n    .dataframe thead th {\n        text-align: right;\n    }\n</style>\n<table border=\"1\" class=\"dataframe\">\n  <thead>\n    <tr style=\"text-align: right;\">\n      <th></th>\n      <th>Кредитная_история</th>\n      <th>Долг</th>\n      <th>Поручительство</th>\n      <th>Риск</th>\n    </tr>\n  </thead>\n  <tbody>\n    <tr>\n      <th>4</th>\n      <td>неизвестная</td>\n      <td>низкий</td>\n      <td>нет</td>\n      <td>низкий</td>\n    </tr>\n    <tr>\n      <th>7</th>\n      <td>плохая</td>\n      <td>низкий</td>\n      <td>адекватное</td>\n      <td>средний</td>\n    </tr>\n    <tr>\n      <th>8</th>\n      <td>хорошая</td>\n      <td>низкий</td>\n      <td>нет</td>\n      <td>низкий</td>\n    </tr>\n  </tbody>\n</table>\n</div>"
     },
     "metadata": {}
    },
    {
     "output_type": "stream",
     "name": "stdout",
     "text": [
      "\n\nDifferent:  [2 1 0]\n"
     ]
    },
    {
     "output_type": "display_data",
     "data": {
      "text/plain": "  Кредитная_история     Долг Поручительство     Риск\n5       неизвестная  высокий     адекватное   низкий\n7            плохая   низкий     адекватное  средний\n9           хорошая  высокий     адекватное   низкий",
      "text/html": "<div>\n<style scoped>\n    .dataframe tbody tr th:only-of-type {\n        vertical-align: middle;\n    }\n\n    .dataframe tbody tr th {\n        vertical-align: top;\n    }\n\n    .dataframe thead th {\n        text-align: right;\n    }\n</style>\n<table border=\"1\" class=\"dataframe\">\n  <thead>\n    <tr style=\"text-align: right;\">\n      <th></th>\n      <th>Кредитная_история</th>\n      <th>Долг</th>\n      <th>Поручительство</th>\n      <th>Риск</th>\n    </tr>\n  </thead>\n  <tbody>\n    <tr>\n      <th>5</th>\n      <td>неизвестная</td>\n      <td>высокий</td>\n      <td>адекватное</td>\n      <td>низкий</td>\n    </tr>\n    <tr>\n      <th>7</th>\n      <td>плохая</td>\n      <td>низкий</td>\n      <td>адекватное</td>\n      <td>средний</td>\n    </tr>\n    <tr>\n      <th>9</th>\n      <td>хорошая</td>\n      <td>высокий</td>\n      <td>адекватное</td>\n      <td>низкий</td>\n    </tr>\n  </tbody>\n</table>\n</div>"
     },
     "metadata": {}
    },
    {
     "output_type": "stream",
     "name": "stdout",
     "text": [
      "\n",
      "\n",
      "Different:  [3 0 0]\n"
     ]
    },
    {
     "output_type": "display_data",
     "data": {
      "text/plain": "   Кредитная_история     Долг Поручительство    Риск\n4        неизвестная   низкий            нет  низкий\n8            хорошая   низкий            нет  низкий\n12           хорошая  высокий            нет  низкий",
      "text/html": "<div>\n<style scoped>\n    .dataframe tbody tr th:only-of-type {\n        vertical-align: middle;\n    }\n\n    .dataframe tbody tr th {\n        vertical-align: top;\n    }\n\n    .dataframe thead th {\n        text-align: right;\n    }\n</style>\n<table border=\"1\" class=\"dataframe\">\n  <thead>\n    <tr style=\"text-align: right;\">\n      <th></th>\n      <th>Кредитная_история</th>\n      <th>Долг</th>\n      <th>Поручительство</th>\n      <th>Риск</th>\n    </tr>\n  </thead>\n  <tbody>\n    <tr>\n      <th>4</th>\n      <td>неизвестная</td>\n      <td>низкий</td>\n      <td>нет</td>\n      <td>низкий</td>\n    </tr>\n    <tr>\n      <th>8</th>\n      <td>хорошая</td>\n      <td>низкий</td>\n      <td>нет</td>\n      <td>низкий</td>\n    </tr>\n    <tr>\n      <th>12</th>\n      <td>хорошая</td>\n      <td>высокий</td>\n      <td>нет</td>\n      <td>низкий</td>\n    </tr>\n  </tbody>\n</table>\n</div>"
     },
     "metadata": {}
    },
    {
     "output_type": "stream",
     "name": "stdout",
     "text": [
      "\n\nEntire different:  [2 2 0]\nEntropy:  1.0\nDifferent:  [1 1 0]\n"
     ]
    },
    {
     "output_type": "display_data",
     "data": {
      "text/plain": "  Кредитная_история     Долг Поручительство     Риск\n1       неизвестная  высокий            нет  высокий\n2       неизвестная   низкий            нет  средний",
      "text/html": "<div>\n<style scoped>\n    .dataframe tbody tr th:only-of-type {\n        vertical-align: middle;\n    }\n\n    .dataframe tbody tr th {\n        vertical-align: top;\n    }\n\n    .dataframe thead th {\n        text-align: right;\n    }\n</style>\n<table border=\"1\" class=\"dataframe\">\n  <thead>\n    <tr style=\"text-align: right;\">\n      <th></th>\n      <th>Кредитная_история</th>\n      <th>Долг</th>\n      <th>Поручительство</th>\n      <th>Риск</th>\n    </tr>\n  </thead>\n  <tbody>\n    <tr>\n      <th>1</th>\n      <td>неизвестная</td>\n      <td>высокий</td>\n      <td>нет</td>\n      <td>высокий</td>\n    </tr>\n    <tr>\n      <th>2</th>\n      <td>неизвестная</td>\n      <td>низкий</td>\n      <td>нет</td>\n      <td>средний</td>\n    </tr>\n  </tbody>\n</table>\n</div>"
     },
     "metadata": {}
    },
    {
     "output_type": "stream",
     "name": "stdout",
     "text": [
      "\n\nDifferent:  [1 0 0]\n"
     ]
    },
    {
     "output_type": "display_data",
     "data": {
      "text/plain": "   Кредитная_история     Долг Поручительство     Риск\n13            плохая  высокий            нет  высокий",
      "text/html": "<div>\n<style scoped>\n    .dataframe tbody tr th:only-of-type {\n        vertical-align: middle;\n    }\n\n    .dataframe tbody tr th {\n        vertical-align: top;\n    }\n\n    .dataframe thead th {\n        text-align: right;\n    }\n</style>\n<table border=\"1\" class=\"dataframe\">\n  <thead>\n    <tr style=\"text-align: right;\">\n      <th></th>\n      <th>Кредитная_история</th>\n      <th>Долг</th>\n      <th>Поручительство</th>\n      <th>Риск</th>\n    </tr>\n  </thead>\n  <tbody>\n    <tr>\n      <th>13</th>\n      <td>плохая</td>\n      <td>высокий</td>\n      <td>нет</td>\n      <td>высокий</td>\n    </tr>\n  </tbody>\n</table>\n</div>"
     },
     "metadata": {}
    },
    {
     "output_type": "stream",
     "name": "stdout",
     "text": [
      "\n\nDifferent:  [1 0 0]\n"
     ]
    },
    {
     "output_type": "display_data",
     "data": {
      "text/plain": "   Кредитная_история     Долг Поручительство     Риск\n11           хорошая  высокий            нет  средний",
      "text/html": "<div>\n<style scoped>\n    .dataframe tbody tr th:only-of-type {\n        vertical-align: middle;\n    }\n\n    .dataframe tbody tr th {\n        vertical-align: top;\n    }\n\n    .dataframe thead th {\n        text-align: right;\n    }\n</style>\n<table border=\"1\" class=\"dataframe\">\n  <thead>\n    <tr style=\"text-align: right;\">\n      <th></th>\n      <th>Кредитная_история</th>\n      <th>Долг</th>\n      <th>Поручительство</th>\n      <th>Риск</th>\n    </tr>\n  </thead>\n  <tbody>\n    <tr>\n      <th>11</th>\n      <td>хорошая</td>\n      <td>высокий</td>\n      <td>нет</td>\n      <td>средний</td>\n    </tr>\n  </tbody>\n</table>\n</div>"
     },
     "metadata": {}
    },
    {
     "output_type": "stream",
     "name": "stdout",
     "text": [
      "\n",
      "\n",
      "Different:  [2 1 0]\n"
     ]
    },
    {
     "output_type": "display_data",
     "data": {
      "text/plain": "   Кредитная_история     Долг Поручительство     Риск\n1        неизвестная  высокий            нет  высокий\n11           хорошая  высокий            нет  средний\n13            плохая  высокий            нет  высокий",
      "text/html": "<div>\n<style scoped>\n    .dataframe tbody tr th:only-of-type {\n        vertical-align: middle;\n    }\n\n    .dataframe tbody tr th {\n        vertical-align: top;\n    }\n\n    .dataframe thead th {\n        text-align: right;\n    }\n</style>\n<table border=\"1\" class=\"dataframe\">\n  <thead>\n    <tr style=\"text-align: right;\">\n      <th></th>\n      <th>Кредитная_история</th>\n      <th>Долг</th>\n      <th>Поручительство</th>\n      <th>Риск</th>\n    </tr>\n  </thead>\n  <tbody>\n    <tr>\n      <th>1</th>\n      <td>неизвестная</td>\n      <td>высокий</td>\n      <td>нет</td>\n      <td>высокий</td>\n    </tr>\n    <tr>\n      <th>11</th>\n      <td>хорошая</td>\n      <td>высокий</td>\n      <td>нет</td>\n      <td>средний</td>\n    </tr>\n    <tr>\n      <th>13</th>\n      <td>плохая</td>\n      <td>высокий</td>\n      <td>нет</td>\n      <td>высокий</td>\n    </tr>\n  </tbody>\n</table>\n</div>"
     },
     "metadata": {}
    },
    {
     "output_type": "stream",
     "name": "stdout",
     "text": [
      "\n\nDifferent:  [1 0 0]\n"
     ]
    },
    {
     "output_type": "display_data",
     "data": {
      "text/plain": "  Кредитная_история    Долг Поручительство     Риск\n2       неизвестная  низкий            нет  средний",
      "text/html": "<div>\n<style scoped>\n    .dataframe tbody tr th:only-of-type {\n        vertical-align: middle;\n    }\n\n    .dataframe tbody tr th {\n        vertical-align: top;\n    }\n\n    .dataframe thead th {\n        text-align: right;\n    }\n</style>\n<table border=\"1\" class=\"dataframe\">\n  <thead>\n    <tr style=\"text-align: right;\">\n      <th></th>\n      <th>Кредитная_история</th>\n      <th>Долг</th>\n      <th>Поручительство</th>\n      <th>Риск</th>\n    </tr>\n  </thead>\n  <tbody>\n    <tr>\n      <th>2</th>\n      <td>неизвестная</td>\n      <td>низкий</td>\n      <td>нет</td>\n      <td>средний</td>\n    </tr>\n  </tbody>\n</table>\n</div>"
     },
     "metadata": {}
    },
    {
     "output_type": "stream",
     "name": "stdout",
     "text": [
      "\n\nDifferent:  [2 2 0]\n"
     ]
    },
    {
     "output_type": "display_data",
     "data": {
      "text/plain": "   Кредитная_история     Долг Поручительство     Риск\n1        неизвестная  высокий            нет  высокий\n2        неизвестная   низкий            нет  средний\n11           хорошая  высокий            нет  средний\n13            плохая  высокий            нет  высокий",
      "text/html": "<div>\n<style scoped>\n    .dataframe tbody tr th:only-of-type {\n        vertical-align: middle;\n    }\n\n    .dataframe tbody tr th {\n        vertical-align: top;\n    }\n\n    .dataframe thead th {\n        text-align: right;\n    }\n</style>\n<table border=\"1\" class=\"dataframe\">\n  <thead>\n    <tr style=\"text-align: right;\">\n      <th></th>\n      <th>Кредитная_история</th>\n      <th>Долг</th>\n      <th>Поручительство</th>\n      <th>Риск</th>\n    </tr>\n  </thead>\n  <tbody>\n    <tr>\n      <th>1</th>\n      <td>неизвестная</td>\n      <td>высокий</td>\n      <td>нет</td>\n      <td>высокий</td>\n    </tr>\n    <tr>\n      <th>2</th>\n      <td>неизвестная</td>\n      <td>низкий</td>\n      <td>нет</td>\n      <td>средний</td>\n    </tr>\n    <tr>\n      <th>11</th>\n      <td>хорошая</td>\n      <td>высокий</td>\n      <td>нет</td>\n      <td>средний</td>\n    </tr>\n    <tr>\n      <th>13</th>\n      <td>плохая</td>\n      <td>высокий</td>\n      <td>нет</td>\n      <td>высокий</td>\n    </tr>\n  </tbody>\n</table>\n</div>"
     },
     "metadata": {}
    },
    {
     "output_type": "stream",
     "name": "stdout",
     "text": [
      "\n",
      "\n",
      "Entire different:  [1 1 0]\n",
      "Entropy:  1.0\n",
      "Different:  [1 0 0]\n"
     ]
    },
    {
     "output_type": "display_data",
     "data": {
      "text/plain": "      Долг Поручительство     Риск\n1  высокий            нет  высокий",
      "text/html": "<div>\n<style scoped>\n    .dataframe tbody tr th:only-of-type {\n        vertical-align: middle;\n    }\n\n    .dataframe tbody tr th {\n        vertical-align: top;\n    }\n\n    .dataframe thead th {\n        text-align: right;\n    }\n</style>\n<table border=\"1\" class=\"dataframe\">\n  <thead>\n    <tr style=\"text-align: right;\">\n      <th></th>\n      <th>Долг</th>\n      <th>Поручительство</th>\n      <th>Риск</th>\n    </tr>\n  </thead>\n  <tbody>\n    <tr>\n      <th>1</th>\n      <td>высокий</td>\n      <td>нет</td>\n      <td>высокий</td>\n    </tr>\n  </tbody>\n</table>\n</div>"
     },
     "metadata": {}
    },
    {
     "output_type": "stream",
     "name": "stdout",
     "text": [
      "\n\nDifferent:  [1 0 0]\n"
     ]
    },
    {
     "output_type": "display_data",
     "data": {
      "text/plain": "     Долг Поручительство     Риск\n2  низкий            нет  средний",
      "text/html": "<div>\n<style scoped>\n    .dataframe tbody tr th:only-of-type {\n        vertical-align: middle;\n    }\n\n    .dataframe tbody tr th {\n        vertical-align: top;\n    }\n\n    .dataframe thead th {\n        text-align: right;\n    }\n</style>\n<table border=\"1\" class=\"dataframe\">\n  <thead>\n    <tr style=\"text-align: right;\">\n      <th></th>\n      <th>Долг</th>\n      <th>Поручительство</th>\n      <th>Риск</th>\n    </tr>\n  </thead>\n  <tbody>\n    <tr>\n      <th>2</th>\n      <td>низкий</td>\n      <td>нет</td>\n      <td>средний</td>\n    </tr>\n  </tbody>\n</table>\n</div>"
     },
     "metadata": {}
    },
    {
     "output_type": "stream",
     "name": "stdout",
     "text": [
      "\n\nDifferent:  [1 1 0]\n"
     ]
    },
    {
     "output_type": "display_data",
     "data": {
      "text/plain": "      Долг Поручительство     Риск\n1  высокий            нет  высокий\n2   низкий            нет  средний",
      "text/html": "<div>\n<style scoped>\n    .dataframe tbody tr th:only-of-type {\n        vertical-align: middle;\n    }\n\n    .dataframe tbody tr th {\n        vertical-align: top;\n    }\n\n    .dataframe thead th {\n        text-align: right;\n    }\n</style>\n<table border=\"1\" class=\"dataframe\">\n  <thead>\n    <tr style=\"text-align: right;\">\n      <th></th>\n      <th>Долг</th>\n      <th>Поручительство</th>\n      <th>Риск</th>\n    </tr>\n  </thead>\n  <tbody>\n    <tr>\n      <th>1</th>\n      <td>высокий</td>\n      <td>нет</td>\n      <td>высокий</td>\n    </tr>\n    <tr>\n      <th>2</th>\n      <td>низкий</td>\n      <td>нет</td>\n      <td>средний</td>\n    </tr>\n  </tbody>\n</table>\n</div>"
     },
     "metadata": {}
    },
    {
     "output_type": "stream",
     "name": "stdout",
     "text": [
      "\n\n"
     ]
    }
   ]
  },
  {
   "cell_type": "code",
   "execution_count": 37,
   "metadata": {},
   "outputs": [
    {
     "output_type": "stream",
     "name": "stdout",
     "text": [
      "Доход\n├── Больше_35\n│   └── Кредитная_история\n│       ├── неизвестная\n│       │   └── низкий\n│       ├── плохая\n│       │   └── средний\n│       └── хорошая\n│           └── низкий\n├── От_0_до_15\n│   └── высокий\n└── От_15_до_35\n    └── Кредитная_история\n        ├── неизвестная\n        │   └── Долг\n        │       ├── высокий\n        │       │   └── высокий\n        │       └── низкий\n        │           └── средний\n        ├── плохая\n        │   └── высокий\n        └── хорошая\n            └── средний\n\n"
     ]
    }
   ],
   "source": [
    "tree.show()"
   ]
  },
  {
   "cell_type": "code",
   "execution_count": 121,
   "metadata": {},
   "outputs": [],
   "source": [
    "def one_r(dataset, show_log=True):\n",
    "    value_columns = dataset.columns[:-1]\n",
    "    unique_values = dataset[target_col_name].unique()\n",
    "    total_records = len(dataset)\n",
    "\n",
    "    min_error_frame = None\n",
    "    min_error = math.inf\n",
    "    min_class_name = ''\n",
    "    for column_name in value_columns:\n",
    "        if show_log:\n",
    "            display(Markdown(f\"**{column_name}**\"))\n",
    "        groups = dataset.groupby(column_name)\n",
    "        frame = pd.DataFrame(columns=[*unique_values, \"majority\", \"errors\"])\n",
    "        for idx, (key, item) in enumerate(groups):\n",
    "            group = groups.get_group(key)[target_col_name].value_counts()\n",
    "            major_ind = group.idxmax()\n",
    "            total_errors = group.sum() - group[major_ind]\n",
    "            group = group.append(pd.Series([major_ind, total_errors], index=['majority', 'errors']))\n",
    "            group.name = key\n",
    "            frame = frame.append(group)\n",
    "        frame = frame.fillna(0)\n",
    "        frame_error = frame['errors'].sum()\n",
    "        frame_errors_relative = frame_error / total_records\n",
    "        if min_error_frame is None or frame_errors_relative < min_error:\n",
    "            min_error = frame_errors_relative\n",
    "            min_class_name = column_name\n",
    "            min_error_frame = frame.copy()\n",
    "\n",
    "        if show_log:    \n",
    "            display(frame)\n",
    "            print(f\"Total error: {frame_error} / {total_records} = {round(frame_errors_relative, 4)}\")\n",
    "            print(end=\"\\n\\n\")\n",
    "    return min_class_name, min_error, min_error_frame\n",
    " "
   ]
  },
  {
   "cell_type": "code",
   "execution_count": 122,
   "metadata": {},
   "outputs": [
    {
     "output_type": "display_data",
     "data": {
      "text/plain": "<IPython.core.display.Markdown object>",
      "text/markdown": "**Кредитная_история**"
     },
     "metadata": {}
    },
    {
     "output_type": "display_data",
     "data": {
      "text/plain": "             высокий  средний  низкий majority  errors\nнеизвестная        2        1       2  высокий       3\nплохая             3        1       0  высокий       1\nхорошая            1        1       3   низкий       2",
      "text/html": "<div>\n<style scoped>\n    .dataframe tbody tr th:only-of-type {\n        vertical-align: middle;\n    }\n\n    .dataframe tbody tr th {\n        vertical-align: top;\n    }\n\n    .dataframe thead th {\n        text-align: right;\n    }\n</style>\n<table border=\"1\" class=\"dataframe\">\n  <thead>\n    <tr style=\"text-align: right;\">\n      <th></th>\n      <th>высокий</th>\n      <th>средний</th>\n      <th>низкий</th>\n      <th>majority</th>\n      <th>errors</th>\n    </tr>\n  </thead>\n  <tbody>\n    <tr>\n      <th>неизвестная</th>\n      <td>2</td>\n      <td>1</td>\n      <td>2</td>\n      <td>высокий</td>\n      <td>3</td>\n    </tr>\n    <tr>\n      <th>плохая</th>\n      <td>3</td>\n      <td>1</td>\n      <td>0</td>\n      <td>высокий</td>\n      <td>1</td>\n    </tr>\n    <tr>\n      <th>хорошая</th>\n      <td>1</td>\n      <td>1</td>\n      <td>3</td>\n      <td>низкий</td>\n      <td>2</td>\n    </tr>\n  </tbody>\n</table>\n</div>"
     },
     "metadata": {}
    },
    {
     "output_type": "stream",
     "name": "stdout",
     "text": [
      "Total error: 6 / 14 = 0.4286\n\n\n"
     ]
    },
    {
     "output_type": "display_data",
     "data": {
      "text/plain": "<IPython.core.display.Markdown object>",
      "text/markdown": "**Долг**"
     },
     "metadata": {}
    },
    {
     "output_type": "display_data",
     "data": {
      "text/plain": "         высокий  средний  низкий majority  errors\nвысокий        4        1       3  высокий       4\nнизкий         2        2       2  высокий       4",
      "text/html": "<div>\n<style scoped>\n    .dataframe tbody tr th:only-of-type {\n        vertical-align: middle;\n    }\n\n    .dataframe tbody tr th {\n        vertical-align: top;\n    }\n\n    .dataframe thead th {\n        text-align: right;\n    }\n</style>\n<table border=\"1\" class=\"dataframe\">\n  <thead>\n    <tr style=\"text-align: right;\">\n      <th></th>\n      <th>высокий</th>\n      <th>средний</th>\n      <th>низкий</th>\n      <th>majority</th>\n      <th>errors</th>\n    </tr>\n  </thead>\n  <tbody>\n    <tr>\n      <th>высокий</th>\n      <td>4</td>\n      <td>1</td>\n      <td>3</td>\n      <td>высокий</td>\n      <td>4</td>\n    </tr>\n    <tr>\n      <th>низкий</th>\n      <td>2</td>\n      <td>2</td>\n      <td>2</td>\n      <td>высокий</td>\n      <td>4</td>\n    </tr>\n  </tbody>\n</table>\n</div>"
     },
     "metadata": {}
    },
    {
     "output_type": "stream",
     "name": "stdout",
     "text": [
      "Total error: 8 / 14 = 0.5714\n\n\n"
     ]
    },
    {
     "output_type": "display_data",
     "data": {
      "text/plain": "<IPython.core.display.Markdown object>",
      "text/markdown": "**Поручительство**"
     },
     "metadata": {}
    },
    {
     "output_type": "display_data",
     "data": {
      "text/plain": "            высокий  средний  низкий majority  errors\nадекватное        0        1       2   низкий       1\nнет               6        2       3  высокий       5",
      "text/html": "<div>\n<style scoped>\n    .dataframe tbody tr th:only-of-type {\n        vertical-align: middle;\n    }\n\n    .dataframe tbody tr th {\n        vertical-align: top;\n    }\n\n    .dataframe thead th {\n        text-align: right;\n    }\n</style>\n<table border=\"1\" class=\"dataframe\">\n  <thead>\n    <tr style=\"text-align: right;\">\n      <th></th>\n      <th>высокий</th>\n      <th>средний</th>\n      <th>низкий</th>\n      <th>majority</th>\n      <th>errors</th>\n    </tr>\n  </thead>\n  <tbody>\n    <tr>\n      <th>адекватное</th>\n      <td>0</td>\n      <td>1</td>\n      <td>2</td>\n      <td>низкий</td>\n      <td>1</td>\n    </tr>\n    <tr>\n      <th>нет</th>\n      <td>6</td>\n      <td>2</td>\n      <td>3</td>\n      <td>высокий</td>\n      <td>5</td>\n    </tr>\n  </tbody>\n</table>\n</div>"
     },
     "metadata": {}
    },
    {
     "output_type": "stream",
     "name": "stdout",
     "text": [
      "Total error: 6 / 14 = 0.4286\n\n\n"
     ]
    },
    {
     "output_type": "display_data",
     "data": {
      "text/plain": "<IPython.core.display.Markdown object>",
      "text/markdown": "**Доход**"
     },
     "metadata": {}
    },
    {
     "output_type": "display_data",
     "data": {
      "text/plain": "             высокий  средний  низкий majority  errors\nБольше_35          0        1       5   низкий       1\nОт_0_до_15         4        0       0  высокий       0\nОт_15_до_35        2        2       0  высокий       2",
      "text/html": "<div>\n<style scoped>\n    .dataframe tbody tr th:only-of-type {\n        vertical-align: middle;\n    }\n\n    .dataframe tbody tr th {\n        vertical-align: top;\n    }\n\n    .dataframe thead th {\n        text-align: right;\n    }\n</style>\n<table border=\"1\" class=\"dataframe\">\n  <thead>\n    <tr style=\"text-align: right;\">\n      <th></th>\n      <th>высокий</th>\n      <th>средний</th>\n      <th>низкий</th>\n      <th>majority</th>\n      <th>errors</th>\n    </tr>\n  </thead>\n  <tbody>\n    <tr>\n      <th>Больше_35</th>\n      <td>0</td>\n      <td>1</td>\n      <td>5</td>\n      <td>низкий</td>\n      <td>1</td>\n    </tr>\n    <tr>\n      <th>От_0_до_15</th>\n      <td>4</td>\n      <td>0</td>\n      <td>0</td>\n      <td>высокий</td>\n      <td>0</td>\n    </tr>\n    <tr>\n      <th>От_15_до_35</th>\n      <td>2</td>\n      <td>2</td>\n      <td>0</td>\n      <td>высокий</td>\n      <td>2</td>\n    </tr>\n  </tbody>\n</table>\n</div>"
     },
     "metadata": {}
    },
    {
     "output_type": "stream",
     "name": "stdout",
     "text": [
      "Total error: 3 / 14 = 0.2143\n\n\n"
     ]
    },
    {
     "output_type": "display_data",
     "data": {
      "text/plain": "<IPython.core.display.Markdown object>",
      "text/markdown": "**Major class Доход with error 0.2143**"
     },
     "metadata": {}
    },
    {
     "output_type": "display_data",
     "data": {
      "text/plain": "             высокий  средний  низкий majority  errors\nБольше_35          0        1       5   низкий       1\nОт_0_до_15         4        0       0  высокий       0\nОт_15_до_35        2        2       0  высокий       2",
      "text/html": "<div>\n<style scoped>\n    .dataframe tbody tr th:only-of-type {\n        vertical-align: middle;\n    }\n\n    .dataframe tbody tr th {\n        vertical-align: top;\n    }\n\n    .dataframe thead th {\n        text-align: right;\n    }\n</style>\n<table border=\"1\" class=\"dataframe\">\n  <thead>\n    <tr style=\"text-align: right;\">\n      <th></th>\n      <th>высокий</th>\n      <th>средний</th>\n      <th>низкий</th>\n      <th>majority</th>\n      <th>errors</th>\n    </tr>\n  </thead>\n  <tbody>\n    <tr>\n      <th>Больше_35</th>\n      <td>0</td>\n      <td>1</td>\n      <td>5</td>\n      <td>низкий</td>\n      <td>1</td>\n    </tr>\n    <tr>\n      <th>От_0_до_15</th>\n      <td>4</td>\n      <td>0</td>\n      <td>0</td>\n      <td>высокий</td>\n      <td>0</td>\n    </tr>\n    <tr>\n      <th>От_15_до_35</th>\n      <td>2</td>\n      <td>2</td>\n      <td>0</td>\n      <td>высокий</td>\n      <td>2</td>\n    </tr>\n  </tbody>\n</table>\n</div>"
     },
     "metadata": {}
    }
   ],
   "source": [
    "min_class_name, min_error, min_error_frame = one_r(credit_data)\n",
    "display(Markdown(f\"**Major class {min_class_name} with error {round(min_error, 4)}**\"))\n",
    "display(min_error_frame)"
   ]
  },
  {
   "cell_type": "code",
   "execution_count": null,
   "metadata": {},
   "outputs": [],
   "source": []
  }
 ]
}